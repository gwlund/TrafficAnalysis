{
 "cells": [
  {
   "cell_type": "code",
   "execution_count": 125,
   "metadata": {},
   "outputs": [],
   "source": [
    "#Read in data from a file as pandas dataframe\n",
    "import sys\n",
    "import pandas as pd"
   ]
  },
  {
   "cell_type": "code",
   "execution_count": null,
   "metadata": {},
   "outputs": [],
   "source": [
    "data = pd.read_csv(\"WA_Crash_Summary.csv\")\n",
    "data.head()"
   ]
  },
  {
   "cell_type": "code",
   "execution_count": null,
   "metadata": {},
   "outputs": [],
   "source": [
    "data.describe()"
   ]
  },
  {
   "cell_type": "code",
   "execution_count": 128,
   "metadata": {},
   "outputs": [],
   "source": [
    "#Remove spaces at end of column Secondary Trafficway\n",
    "data['Secondary Trafficway'] = data['Secondary Trafficway'].str.strip()\n",
    "\n",
    "#Show unique values for Secondary Trafficway\n",
    "data['Secondary Trafficway'].unique()\n",
    "\n",
    "#Remove columns expect for the following columns 'Report Number', 'Crash Date/Time', 'City', 'Primary Trafficay', 'Mile Post', 'City'\n",
    "data = data[['Collision Report Number', 'Collision Date', 'City', 'Primary Trafficway', 'Secondary Trafficway', 'Mile Post']]\n",
    "\n",
    "#Sort by City and then by Mile Post\n",
    "data = data.sort_values(by=['City', 'Mile Post'])"
   ]
  },
  {
   "cell_type": "markdown",
   "metadata": {},
   "source": [
    "## Mile Post Filter for I-5 Bellingham\n",
    "\n",
    "Milepost 241 on I-5 in Washington state is located near Bellingham, just south of the Lake Samish area. It is situated between the Bow Hill Road and Nulle Road exits. This is a more rural area with easy access to outdoor spots like Lake Samish and Chuckanut Mountain.\n",
    "\n",
    "The last milepost on I-5 before the Canadian border is Milepost 276. This is just before the Peace Arch Border Crossing, where I-5 ends and connects to British Columbia's Highway 99 in Canada.\n",
    "\n",
    "Here is a list of the mileposts between 241 and 276 on I-5 in Washington State:\n",
    "\n",
    "- Milepost 241: Near Lake Samish, south of Bellingham\n",
    "- Milepost 242: Nulle Road exit\n",
    "- Milepost 243: Chuckanut Drive exit (SR 11)\n",
    "- Milepost 250: Near Bellingham (South Bellingham area)\n",
    "- Milepost 252: Samish Way / Fairhaven Parkway exit\n",
    "- Milepost 253: Lakeway Drive exit\n",
    "- Milepost 254: Iowa Street / James Street exit\n",
    "- Milepost 255: Sunset Drive exit (SR 542, Mt. Baker Highway)\n",
    "- Milepost 256: Meridian Street exit (SR 539)\n",
    "- Milepost 260: Slater Road exit\n",
    "- Milepost 262: Near Ferndale (Main Street exit)\n",
    "- Milepost 266: Grandview Road exit\n",
    "- Milepost 270: Near Blaine, Birch Bay-Lynden Road exit\n",
    "- Milepost 274: Near Blaine, D Street exit\n",
    "- Milepost 276: Peace Arch Border Crossing\n",
    "\n",
    "This list covers the major points and exits along this section of I-5 as you approach the Canadian border.\n"
   ]
  },
  {
   "cell_type": "code",
   "execution_count": null,
   "metadata": {},
   "outputs": [],
   "source": [
    "#Create a lookup table of mile post and description in order to connect accident location to milepost\n",
    "\n",
    "import folium\n",
    "\n",
    "# Create a base map centered on Bellingham, WA area\n",
    "map_i5 = folium.Map(location=[48.75, -122.45], zoom_start=10)\n",
    "\n",
    "# Add markers for each milepost location\n",
    "milepost_locations = {\n",
    "    241: [48.635, -122.332],  # Near Lake Samish\n",
    "    242: [48.642, -122.352],  # Nulle Road exit\n",
    "    243: [48.653, -122.376],  # Chuckanut Drive exit\n",
    "    250: [48.700, -122.469],  # South Bellingham\n",
    "    252: [48.721, -122.485],  # Fairhaven Parkway\n",
    "    253: [48.734, -122.484],  # Lakeway Drive\n",
    "    254: [48.745, -122.472],  # Iowa Street\n",
    "    255: [48.758, -122.465],  # Sunset Drive\n",
    "    256: [48.770, -122.470],  # Meridian Street\n",
    "    260: [48.828, -122.514],  # Slater Road\n",
    "    262: [48.856, -122.585],  # Ferndale Main Street\n",
    "    266: [48.909, -122.632],  # Grandview Road\n",
    "    270: [48.967, -122.677],  # Birch Bay-Lynden Road\n",
    "    274: [49.001, -122.744],  # D Street, Blaine\n",
    "    276: [49.003, -122.747]   # Peace Arch Border Crossing\n",
    "}\n",
    "\n",
    "# Add markers to the map\n",
    "for milepost, coords in milepost_locations.items():\n",
    "    folium.Marker(\n",
    "        location=coords,\n",
    "        popup=f\"Milepost {milepost}\",\n",
    "        icon=folium.Icon(color='blue', icon='info-sign')\n",
    "    ).add_to(map_i5)\n",
    "\n",
    "# Save and display the map\n",
    "map_i5.save('i5_mileposts_241_to_276_map.html')\n",
    "map_i5\n"
   ]
  },
  {
   "cell_type": "code",
   "execution_count": 130,
   "metadata": {},
   "outputs": [],
   "source": [
    "#Create a histogram of mile post"
   ]
  },
  {
   "cell_type": "code",
   "execution_count": 131,
   "metadata": {},
   "outputs": [],
   "source": [
    "#filter out data less than mile post 241 and greater than mile post 276\n",
    "data = data[(data['Mile Post'] >= 241) & (data['Mile Post'] <= 276)]"
   ]
  },
  {
   "cell_type": "code",
   "execution_count": 132,
   "metadata": {},
   "outputs": [],
   "source": [
    "milepost_names = {\n",
    "    241: 'Near Lake Samish',\n",
    "    242: 'Nulle Road Exit',\n",
    "    243: 'Chuckanut Drive exit',\n",
    "    250: 'South Bellingham',\n",
    "    252: 'Fairhaven Parkway',\n",
    "    253: 'Lakeway Drive',\n",
    "    254: 'Iowa Street',\n",
    "    255: 'Sunset Drive',\n",
    "    256: 'Meridian Street',\n",
    "    260: 'Slater Road',\n",
    "    262: 'Ferndale Main Street', \n",
    "    266: 'Grandview Road', \n",
    "    270: 'Birch Bay-Lynden Road', \n",
    "    274: 'D Street, Blaine',\n",
    "    276: 'Peace Arch Border Crossing'\n",
    "}\n",
    "\n",
    "# Add a new column to the data with the milepost name according to the closest mile post number in the milepost_names dictionary\n",
    "data['Mile Post Name'] = data['Mile Post'].apply(lambda x: min(milepost_names.keys(), key=lambda y: abs(x-y)))\n",
    "data['Mile Post Name'] = data['Mile Post Name'].map(milepost_names)\n"
   ]
  },
  {
   "cell_type": "markdown",
   "metadata": {},
   "source": [
    "# Clean Data\n",
    "1. There are multiple rows which contain \"IOWA\"\n",
    "2. There are multiple rows which contain the word I-5 for Primary Roadway\n",
    "2. Verify that all records that have Primary Trafficway = 'I-5'\n",
    "3. Look into using milepost instead of Primary and Secondary Trafficway"
   ]
  },
  {
   "cell_type": "code",
   "execution_count": null,
   "metadata": {},
   "outputs": [],
   "source": [
    "#Show all rows where Primary Trafficway contains '5'\n",
    "data[data['Primary Trafficway'].str.contains('5')]\n",
    "\n",
    "#Show a unique list of Primary Trafficway where the Primary Trafficway contains '5'\n",
    "data[data['Primary Trafficway'].str.contains('5')]['Primary Trafficway'].unique()\n",
    "\n",
    "#Various records containing I-5 ('I5', 'I-5', 'I 5', 'INTERSTATE 5', 'INTERSTATE 5 NB', 'INTERSTATE 5 SB')"
   ]
  },
  {
   "cell_type": "code",
   "execution_count": null,
   "metadata": {},
   "outputs": [],
   "source": [
    "#Plot a histogram of mile post name to see where accidents are most likely to occur\n",
    "import matplotlib.pyplot as plt\n",
    "\n",
    "data['Mile Post Name'].value_counts().plot(kind='bar')\n",
    "plt.xlabel('Mile Post Name')\n",
    "plt.ylabel('Number of Accidents')\n",
    "plt.title('Number of Accidents by Mile Post Name')\n",
    "plt.show()\n"
   ]
  },
  {
   "cell_type": "code",
   "execution_count": null,
   "metadata": {},
   "outputs": [],
   "source": [
    "#Plot a histogram of mile post to see where accidents are most likely to occur\n",
    "data['Mile Post'].plot(kind='hist', bins=20)\n",
    "plt.xlabel('Mile Post')\n",
    "plt.ylabel('Number of Accidents')\n",
    "plt.title('Number of Accidents by Mile Post')\n",
    "plt.show()"
   ]
  },
  {
   "cell_type": "code",
   "execution_count": null,
   "metadata": {},
   "outputs": [],
   "source": [
    "#Plot a time series of accidents by date.  Group date by month and year.  Plot one series for each mile post name\n",
    "data['Collision Date'] = pd.to_datetime(data['Collision Date'])\n",
    "data['Year'] = data['Collision Date'].dt.year\n",
    "data['Month'] = data['Collision Date'].dt.month\n",
    "data.groupby(['Year', 'Month', 'Mile Post Name']).size().unstack().plot()\n",
    "plt.xlabel('Year, Month')\n",
    "plt.ylabel('Number of Accidents')\n",
    "plt.title('Number of Accidents by Year, Month')\n",
    "plt.show()"
   ]
  },
  {
   "cell_type": "code",
   "execution_count": null,
   "metadata": {},
   "outputs": [],
   "source": [
    "# Let's search for the word 'IOWA' or 'iowa' in the entire dataset.\n",
    "# We'll first convert all columns to string for this search.\n",
    "\n",
    "# Convert all columns to string for searching\n",
    "accident_data_str = data.apply(lambda x: x.astype(str))\n",
    "\n",
    "# Check for any occurrence of 'IOWA' or 'iowa' in any column\n",
    "iowa_rows = accident_data_str.apply(lambda row: row.str.contains('IOWA', case=False)).any(axis=1)\n",
    "\n",
    "# Add a new column to the original dataset indicating whether 'IOWA' or 'iowa' is present in any of the columns\n",
    "data['Contains Iowa'] = iowa_rows\n",
    "\n",
    "# Count how many rows contain 'IOWA' or 'iowa'\n",
    "iowa_count = iowa_rows.sum()\n",
    "\n",
    "iowa_count\n",
    "data"
   ]
  },
  {
   "cell_type": "code",
   "execution_count": null,
   "metadata": {},
   "outputs": [],
   "source": [
    "iowa_street_count = data[data['Secondary Trafficway'] == 'IOWA ST'].shape[0]\n",
    "iowa_street_count"
   ]
  },
  {
   "cell_type": "code",
   "execution_count": null,
   "metadata": {},
   "outputs": [],
   "source": [
    "# Let's filter the data to the relevant columns for this task: Primary Trafficway, Secondary Trafficway, and Mile Post.\n",
    "trafficway_data = data[['Primary Trafficway', 'Secondary Trafficway', 'Mile Post']].drop_duplicates()\n",
    "\n",
    "# Group by Primary and Secondary Trafficway and check for any Mile Post values within one mile.\n",
    "# To identify duplicates that need to be reconciled, we'll need to sort and then group by trafficways.\n",
    "\n",
    "# Sort the data by Primary and Secondary Trafficway and Mile Post\n",
    "trafficway_data = trafficway_data.sort_values(by=['Primary Trafficway', 'Secondary Trafficway', 'Mile Post'])\n",
    "\n",
    "# Create a function to reconcile Mile Post values that are within one mile\n",
    "def reconcile_mile_post(group):\n",
    "    group['Mile Post Diff'] = group['Mile Post'].diff().fillna(0)\n",
    "    group['Combine'] = group['Mile Post Diff'].abs() <= 1\n",
    "    return group\n",
    "\n",
    "# Apply the function to each group of Primary and Secondary Trafficways\n",
    "reconciled_trafficways = trafficway_data.groupby(['Primary Trafficway', 'Secondary Trafficway']).apply(reconcile_mile_post)\n",
    "\n",
    "# Display the reconciled trafficways with information about combining\n",
    "reconciled_trafficways[['Primary Trafficway', 'Secondary Trafficway', 'Mile Post', 'Combine']]\n"
   ]
  },
  {
   "cell_type": "code",
   "execution_count": null,
   "metadata": {},
   "outputs": [],
   "source": [
    "# Now let's combine the records flagged for combination.\n",
    "# We'll collapse the records where 'Combine' is True by keeping the first entry of those groups.\n",
    "\n",
    "# Mark groups that need combining\n",
    "reconciled_trafficways['Group'] = (~reconciled_trafficways['Combine']).cumsum()\n",
    "\n",
    "# Combine the groups by taking the first value of Mile Post for each group\n",
    "combined_trafficways = reconciled_trafficways.groupby('Group').agg({\n",
    "    'Primary Trafficway': 'first',\n",
    "    'Secondary Trafficway': 'first',\n",
    "    'Mile Post': 'min'\n",
    "}).reset_index(drop=True)\n",
    "\n",
    "combined_trafficways\n"
   ]
  },
  {
   "cell_type": "code",
   "execution_count": null,
   "metadata": {},
   "outputs": [],
   "source": [
    "#group data by Primary Trafficway, Secondary Trafficway and count of crashes\n",
    "grouped = data.groupby(['City', 'Primary Trafficway', 'Secondary Trafficway'])\n",
    "grouped = grouped.size()\n",
    "grouped = grouped.reset_index()\n",
    "grouped.columns = ['City', 'Primary Trafficway', 'Secondary Trafficway', 'Crash Count']\n",
    "grouped = grouped.sort_values(by='Crash Count', ascending=False)\n",
    "\n",
    "grouped.head()"
   ]
  }
 ],
 "metadata": {
  "kernelspec": {
   "display_name": "Python 3",
   "language": "python",
   "name": "python3"
  },
  "language_info": {
   "codemirror_mode": {
    "name": "ipython",
    "version": 3
   },
   "file_extension": ".py",
   "mimetype": "text/x-python",
   "name": "python",
   "nbconvert_exporter": "python",
   "pygments_lexer": "ipython3",
   "version": "3.12.6"
  }
 },
 "nbformat": 4,
 "nbformat_minor": 2
}
