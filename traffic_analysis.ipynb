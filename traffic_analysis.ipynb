{
 "cells": [
  {
   "cell_type": "code",
   "execution_count": 23,
   "metadata": {},
   "outputs": [],
   "source": [
    "#Read in data from a file as pandas dataframe\n",
    "import sys\n",
    "import pandas as pd"
   ]
  },
  {
   "cell_type": "code",
   "execution_count": null,
   "metadata": {},
   "outputs": [],
   "source": [
    "data = pd.read_csv(\"WA_Crash_Summary.csv\")\n",
    "data.head()"
   ]
  },
  {
   "cell_type": "code",
   "execution_count": null,
   "metadata": {},
   "outputs": [],
   "source": [
    "data.describe()"
   ]
  },
  {
   "cell_type": "code",
   "execution_count": null,
   "metadata": {},
   "outputs": [],
   "source": [
    "#Remove spaces at end of column Secondary Trafficway\n",
    "data['Secondary Trafficway'] = data['Secondary Trafficway'].str.strip()\n",
    "\n",
    "#Show unique values for Secondary Trafficway\n",
    "data['Secondary Trafficway'].unique()"
   ]
  },
  {
   "cell_type": "code",
   "execution_count": null,
   "metadata": {},
   "outputs": [],
   "source": [
    "iowa_street_count = data[data['Secondary Trafficway'] == 'SR 539'].shape[0]\n",
    "iowa_street_count\n",
    "\n",
    "#show rows where Secondary Trafficway is SR 539\n",
    "#data[data['Secondary Trafficway'] == 'SR 539']\n",
    "\n",
    "≈"
   ]
  },
  {
   "cell_type": "code",
   "execution_count": null,
   "metadata": {},
   "outputs": [],
   "source": [
    "#group data by Primary Trafficway, Secondary Trafficway and count of crashes\n",
    "grouped = data.groupby(['City', 'Primary Trafficway', 'Secondary Trafficway'])\n",
    "grouped = grouped.size()\n",
    "grouped = grouped.reset_index()\n",
    "grouped.columns = ['City', 'Primary Trafficway', 'Secondary Trafficway', 'Crash Count']\n",
    "grouped = grouped.sort_values(by='Crash Count', ascending=False)\n",
    "\n",
    "grouped.head()"
   ]
  }
 ],
 "metadata": {
  "kernelspec": {
   "display_name": "Python 3",
   "language": "python",
   "name": "python3"
  },
  "language_info": {
   "codemirror_mode": {
    "name": "ipython",
    "version": 3
   },
   "file_extension": ".py",
   "mimetype": "text/x-python",
   "name": "python",
   "nbconvert_exporter": "python",
   "pygments_lexer": "ipython3",
   "version": "3.12.6"
  }
 },
 "nbformat": 4,
 "nbformat_minor": 2
}
